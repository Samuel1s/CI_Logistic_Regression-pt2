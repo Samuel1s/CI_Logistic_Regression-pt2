{
 "cells": [
  {
   "cell_type": "markdown",
   "metadata": {
    "run_control": {
     "marked": true
    }
   },
   "source": [
    "#  Logistic Regression and Classification Error Metrics"
   ]
  },
  {
   "cell_type": "markdown",
   "metadata": {
    "run_control": {
     "marked": true
    }
   },
   "source": [
    "## Introduction\n",
    "\n",
    "We will be using the [Human Activity Recognition with Smartphones](https://archive.ics.uci.edu/ml/datasets/Human+Activity+Recognition+Using+Smartphones) database, which was built from the recordings of study participants performing activities of daily living (ADL) while carrying a smartphone with an embedded inertial sensors. The objective is to classify activities into one of the six activities (walking, walking upstairs, walking downstairs, sitting, standing, and laying) performed.\n",
    "\n",
    "For each record in the dataset it is provided: \n",
    "\n",
    "- Triaxial acceleration from the accelerometer (total acceleration) and the estimated body acceleration. \n",
    "- Triaxial Angular velocity from the gyroscope. \n",
    "- A 561-feature vector with time and frequency domain variables. \n",
    "- Its activity label. \n",
    "\n",
    "More information about the features is available on the website: above or at https://www.kaggle.com/uciml/human-activity-recognition-with-smartphones "
   ]
  },
  {
   "cell_type": "code",
   "execution_count": 1,
   "metadata": {
    "run_control": {
     "marked": true
    }
   },
   "outputs": [],
   "source": [
    "from __future__ import print_function\n",
    "import os\n",
    "#Data Path has to be set as per the file location in your system\n",
    "#data_path = ['..', 'data']\n",
    "data_path = ['/Users/Samuel/Desktop/Development/Git_Hub/Praticas_IC/TP_Regressao_Logistica-pt2/CI_Logistic_Regression-pt2']"
   ]
  },
  {
   "cell_type": "markdown",
   "metadata": {
    "run_control": {
     "marked": true
    }
   },
   "source": [
    "## Question 1\n",
    "\n",
    "Import the data and do the following:\n",
    "\n",
    "* Examine the data types--there are many columns, so it might be wise to use value counts\n",
    "* Determine if the floating point values need to be scaled\n",
    "* Determine the breakdown of each activity\n",
    "* Encode the activity label as an integer"
   ]
  },
  {
   "cell_type": "code",
   "execution_count": 2,
   "metadata": {
    "run_control": {
     "marked": true
    }
   },
   "outputs": [],
   "source": [
    "import pandas as pd\n",
    "import numpy as np\n",
    "#The filepath is dependent on the data_path set in the previous cell \n",
    "filepath = os.sep.join(data_path + ['Human_Activity_Recognition_Using_Smartphones_Data.csv'])\n",
    "data = pd.read_csv(filepath, sep=',')"
   ]
  },
  {
   "cell_type": "markdown",
   "metadata": {
    "run_control": {
     "marked": true
    }
   },
   "source": [
    "The data columns are all floats except for the activity label."
   ]
  },
  {
   "cell_type": "code",
   "execution_count": 3,
   "metadata": {
    "run_control": {
     "marked": true
    }
   },
   "outputs": [
    {
     "data": {
      "text/plain": [
       "float64    561\n",
       "object       1\n",
       "dtype: int64"
      ]
     },
     "execution_count": 3,
     "metadata": {},
     "output_type": "execute_result"
    }
   ],
   "source": [
    "data.dtypes.value_counts()"
   ]
  },
  {
   "cell_type": "code",
   "execution_count": 4,
   "metadata": {
    "run_control": {
     "marked": true
    }
   },
   "outputs": [
    {
     "data": {
      "text/plain": [
       "angle(tBodyGyroJerkMean,gravityMean)    float64\n",
       "angle(X,gravityMean)                    float64\n",
       "angle(Y,gravityMean)                    float64\n",
       "angle(Z,gravityMean)                    float64\n",
       "Activity                                 object\n",
       "dtype: object"
      ]
     },
     "execution_count": 4,
     "metadata": {},
     "output_type": "execute_result"
    }
   ],
   "source": [
    "data.dtypes.tail()"
   ]
  },
  {
   "cell_type": "markdown",
   "metadata": {
    "run_control": {
     "marked": true
    }
   },
   "source": [
    "The data are all scaled from -1 (minimum) to 1.0 (maximum)."
   ]
  },
  {
   "cell_type": "code",
   "execution_count": 5,
   "metadata": {
    "run_control": {
     "marked": true
    }
   },
   "outputs": [
    {
     "data": {
      "text/plain": [
       "-1.0    561\n",
       "dtype: int64"
      ]
     },
     "execution_count": 5,
     "metadata": {},
     "output_type": "execute_result"
    }
   ],
   "source": [
    "data.iloc[:, :-1].min().value_counts()"
   ]
  },
  {
   "cell_type": "code",
   "execution_count": 6,
   "metadata": {
    "run_control": {
     "marked": true
    }
   },
   "outputs": [
    {
     "data": {
      "text/plain": [
       "1.0    561\n",
       "dtype: int64"
      ]
     },
     "execution_count": 6,
     "metadata": {},
     "output_type": "execute_result"
    }
   ],
   "source": [
    "data.iloc[:, :-1].max().value_counts()"
   ]
  },
  {
   "cell_type": "markdown",
   "metadata": {},
   "source": [
    "Examine the breakdown of activities--they are relatively balanced."
   ]
  },
  {
   "cell_type": "code",
   "execution_count": 7,
   "metadata": {},
   "outputs": [
    {
     "data": {
      "text/plain": [
       "LAYING                1944\n",
       "STANDING              1906\n",
       "SITTING               1777\n",
       "WALKING               1722\n",
       "WALKING_UPSTAIRS      1544\n",
       "WALKING_DOWNSTAIRS    1406\n",
       "Name: Activity, dtype: int64"
      ]
     },
     "execution_count": 7,
     "metadata": {},
     "output_type": "execute_result"
    }
   ],
   "source": [
    "data.Activity.value_counts()"
   ]
  },
  {
   "cell_type": "markdown",
   "metadata": {},
   "source": [
    "Scikit learn classifiers won't accept a sparse matrix for the prediction column. Thus, either `LabelEncoder` needs to be used to convert the activity labels to integers, or if `DictVectorizer` is used, the resulting matrix must be converted to a non-sparse array.  \n",
    "Use `LabelEncoder` to fit_transform the \"Activity\" column, and look at 5 random values."
   ]
  },
  {
   "cell_type": "code",
   "execution_count": 8,
   "metadata": {},
   "outputs": [
    {
     "data": {
      "text/plain": [
       "5948    0\n",
       "6759    4\n",
       "2898    2\n",
       "2511    4\n",
       "1463    5\n",
       "Name: Activity, dtype: int64"
      ]
     },
     "execution_count": 8,
     "metadata": {},
     "output_type": "execute_result"
    }
   ],
   "source": [
    "from sklearn.preprocessing import LabelEncoder\n",
    "\n",
    "le = LabelEncoder()\n",
    "data['Activity'] = le.fit_transform(data.Activity)\n",
    "data['Activity'].sample(5)"
   ]
  },
  {
   "cell_type": "markdown",
   "metadata": {},
   "source": [
    "## Question 2\n",
    "\n",
    "* Calculate the correlations between the dependent variables.\n",
    "* Create a histogram of the correlation values\n",
    "* Identify those that are most correlated (either positively or negatively)."
   ]
  },
  {
   "cell_type": "code",
   "execution_count": 9,
   "metadata": {},
   "outputs": [],
   "source": [
    "# Calculate the correlation values\n",
    "feature_cols = data.columns[:-1]\n",
    "corr_values = data[feature_cols].corr()\n",
    "\n",
    "# Simplify by emptying all the data below the diagonal\n",
    "tril_index = np.tril_indices_from(corr_values)\n",
    "\n",
    "# Make the unused values NaNs\n",
    "for coord in zip(*tril_index):\n",
    "    corr_values.iloc[coord[0], coord[1]] = np.NaN\n",
    "    \n",
    "# Stack the data and convert to a data frame\n",
    "corr_values = (corr_values.stack().to_frame().reset_index().rename(columns={'level_0':'feature1','level_1':'feature2',0:'correlation'}))\n",
    "\n",
    "# Get the absolute values for sorting\n",
    "corr_values['abs_correlation'] = corr_values.correlation.abs()"
   ]
  },
  {
   "cell_type": "markdown",
   "metadata": {},
   "source": [
    "A histogram of the absolute value correlations."
   ]
  },
  {
   "cell_type": "code",
   "execution_count": 10,
   "metadata": {},
   "outputs": [],
   "source": [
    "import matplotlib.pyplot as plt\n",
    "import seaborn as sns\n",
    "%matplotlib inline"
   ]
  },
  {
   "cell_type": "code",
   "execution_count": 11,
   "metadata": {},
   "outputs": [
    {
     "data": {
      "image/png": "[encoded data removed]",
      "text/plain": [
       "<Figure size 432x288 with 1 Axes>"
      ]
     },
     "metadata": {},
     "output_type": "display_data"
    }
   ],
   "source": [
    "sns.set_context('talk')\n",
    "sns.set_style('white')\n",
    "sns.set_palette('dark')\n",
    "\n",
    "ax = corr_values.abs_correlation.hist(bins=50)\n",
    "\n",
    "ax.set(xlabel='Absolute Correlation', ylabel='Frequency');"
   ]
  },
  {
   "cell_type": "code",
   "execution_count": 12,
   "metadata": {},
   "outputs": [
    {
     "data": {
      "text/html": [
       "<div>\n",
       "<style scoped>\n",
       "    .dataframe tbody tr th:only-of-type {\n",
       "        vertical-align: middle;\n",
       "    }\n",
       "\n",
       "    .dataframe tbody tr th {\n",
       "        vertical-align: top;\n",
       "    }\n",
       "\n",
       "    .dataframe thead th {\n",
       "        text-align: right;\n",
       "    }\n",
       "</style>\n",
       "<table border=\"1\" class=\"dataframe\">\n",
       "  <thead>\n",
       "    <tr style=\"text-align: right;\">\n",
       "      <th></th>\n",
       "      <th>feature1</th>\n",
       "      <th>feature2</th>\n",
       "      <th>correlation</th>\n",
       "      <th>abs_correlation</th>\n",
       "    </tr>\n",
       "  </thead>\n",
       "  <tbody>\n",
       "    <tr>\n",
       "      <th>156894</th>\n",
       "      <td>fBodyBodyGyroJerkMag-mean()</td>\n",
       "      <td>fBodyBodyGyroJerkMag-sma()</td>\n",
       "      <td>1.000000</td>\n",
       "      <td>1.000000</td>\n",
       "    </tr>\n",
       "    <tr>\n",
       "      <th>93902</th>\n",
       "      <td>tBodyAccMag-sma()</td>\n",
       "      <td>tGravityAccMag-sma()</td>\n",
       "      <td>1.000000</td>\n",
       "      <td>1.000000</td>\n",
       "    </tr>\n",
       "    <tr>\n",
       "      <th>101139</th>\n",
       "      <td>tBodyAccJerkMag-mean()</td>\n",
       "      <td>tBodyAccJerkMag-sma()</td>\n",
       "      <td>1.000000</td>\n",
       "      <td>1.000000</td>\n",
       "    </tr>\n",
       "    <tr>\n",
       "      <th>96706</th>\n",
       "      <td>tGravityAccMag-mean()</td>\n",
       "      <td>tGravityAccMag-sma()</td>\n",
       "      <td>1.000000</td>\n",
       "      <td>1.000000</td>\n",
       "    </tr>\n",
       "    <tr>\n",
       "      <th>94257</th>\n",
       "      <td>tBodyAccMag-energy()</td>\n",
       "      <td>tGravityAccMag-energy()</td>\n",
       "      <td>1.000000</td>\n",
       "      <td>1.000000</td>\n",
       "    </tr>\n",
       "    <tr>\n",
       "      <th>...</th>\n",
       "      <td>...</td>\n",
       "      <td>...</td>\n",
       "      <td>...</td>\n",
       "      <td>...</td>\n",
       "    </tr>\n",
       "    <tr>\n",
       "      <th>22657</th>\n",
       "      <td>tGravityAcc-mean()-Y</td>\n",
       "      <td>angle(Y,gravityMean)</td>\n",
       "      <td>-0.993425</td>\n",
       "      <td>0.993425</td>\n",
       "    </tr>\n",
       "    <tr>\n",
       "      <th>39225</th>\n",
       "      <td>tGravityAcc-arCoeff()-Z,3</td>\n",
       "      <td>tGravityAcc-arCoeff()-Z,4</td>\n",
       "      <td>-0.994267</td>\n",
       "      <td>0.994267</td>\n",
       "    </tr>\n",
       "    <tr>\n",
       "      <th>38739</th>\n",
       "      <td>tGravityAcc-arCoeff()-Z,2</td>\n",
       "      <td>tGravityAcc-arCoeff()-Z,3</td>\n",
       "      <td>-0.994628</td>\n",
       "      <td>0.994628</td>\n",
       "    </tr>\n",
       "    <tr>\n",
       "      <th>23176</th>\n",
       "      <td>tGravityAcc-mean()-Z</td>\n",
       "      <td>angle(Z,gravityMean)</td>\n",
       "      <td>-0.994764</td>\n",
       "      <td>0.994764</td>\n",
       "    </tr>\n",
       "    <tr>\n",
       "      <th>38252</th>\n",
       "      <td>tGravityAcc-arCoeff()-Z,1</td>\n",
       "      <td>tGravityAcc-arCoeff()-Z,2</td>\n",
       "      <td>-0.995195</td>\n",
       "      <td>0.995195</td>\n",
       "    </tr>\n",
       "  </tbody>\n",
       "</table>\n",
       "<p>22815 rows × 4 columns</p>\n",
       "</div>"
      ],
      "text/plain": [
       "                           feature1                    feature2  correlation  \\\n",
       "156894  fBodyBodyGyroJerkMag-mean()  fBodyBodyGyroJerkMag-sma()     1.000000   \n",
       "93902             tBodyAccMag-sma()        tGravityAccMag-sma()     1.000000   \n",
       "101139       tBodyAccJerkMag-mean()       tBodyAccJerkMag-sma()     1.000000   \n",
       "96706         tGravityAccMag-mean()        tGravityAccMag-sma()     1.000000   \n",
       "94257          tBodyAccMag-energy()     tGravityAccMag-energy()     1.000000   \n",
       "...                             ...                         ...          ...   \n",
       "22657          tGravityAcc-mean()-Y        angle(Y,gravityMean)    -0.993425   \n",
       "39225     tGravityAcc-arCoeff()-Z,3   tGravityAcc-arCoeff()-Z,4    -0.994267   \n",
       "38739     tGravityAcc-arCoeff()-Z,2   tGravityAcc-arCoeff()-Z,3    -0.994628   \n",
       "23176          tGravityAcc-mean()-Z        angle(Z,gravityMean)    -0.994764   \n",
       "38252     tGravityAcc-arCoeff()-Z,1   tGravityAcc-arCoeff()-Z,2    -0.995195   \n",
       "\n",
       "        abs_correlation  \n",
       "156894         1.000000  \n",
       "93902          1.000000  \n",
       "101139         1.000000  \n",
       "96706          1.000000  \n",
       "94257          1.000000  \n",
       "...                 ...  \n",
       "22657          0.993425  \n",
       "39225          0.994267  \n",
       "38739          0.994628  \n",
       "23176          0.994764  \n",
       "38252          0.995195  \n",
       "\n",
       "[22815 rows x 4 columns]"
      ]
     },
     "execution_count": 12,
     "metadata": {},
     "output_type": "execute_result"
    }
   ],
   "source": [
    "# The most highly correlated values\n",
    "corr_values.sort_values('correlation', ascending=False).query('abs_correlation>0.8')"
   ]
  },
  {
   "cell_type": "markdown",
   "metadata": {},
   "source": [
    "## Question 3\n",
    "\n",
    "* Split the data into train and test data sets. This can be done using any method, but consider using Scikit-learn's `StratifiedShuffleSplit` to maintain the same ratio of predictor classes.\n",
    "* Regardless of methods used to split the data, compare the ratio of classes in both the train and test splits.\n"
   ]
  },
  {
   "cell_type": "code",
   "execution_count": 13,
   "metadata": {},
   "outputs": [],
   "source": [
    "from sklearn.model_selection import StratifiedShuffleSplit\n",
    "\n",
    "# Get the split indexes\n",
    "strat_shuf_split = StratifiedShuffleSplit(n_splits=1,test_size=0.3, random_state=42)\n",
    "\n",
    "train_idx, test_idx = next(strat_shuf_split.split(data[feature_cols], data.Activity))\n",
    "\n",
    "# Create the dataframes\n",
    "X_train = data.loc[train_idx, feature_cols]\n",
    "y_train = data.loc[train_idx, 'Activity']\n",
    "\n",
    "X_test  = data.loc[test_idx, feature_cols]\n",
    "y_test  = data.loc[test_idx, 'Activity']\n"
   ]
  },
  {
   "cell_type": "code",
   "execution_count": 14,
   "metadata": {},
   "outputs": [
    {
     "data": {
      "text/plain": [
       "0    0.188792\n",
       "2    0.185046\n",
       "1    0.172562\n",
       "3    0.167152\n",
       "5    0.149951\n",
       "4    0.136496\n",
       "Name: Activity, dtype: float64"
      ]
     },
     "execution_count": 14,
     "metadata": {},
     "output_type": "execute_result"
    }
   ],
   "source": [
    "y_train.value_counts(normalize=True)"
   ]
  },
  {
   "cell_type": "code",
   "execution_count": 15,
   "metadata": {},
   "outputs": [
    {
     "data": {
      "text/plain": [
       "0    0.188673\n",
       "2    0.185113\n",
       "1    0.172492\n",
       "3    0.167314\n",
       "5    0.149838\n",
       "4    0.136570\n",
       "Name: Activity, dtype: float64"
      ]
     },
     "execution_count": 15,
     "metadata": {},
     "output_type": "execute_result"
    }
   ],
   "source": [
    "y_test.value_counts(normalize=True)"
   ]
  },
  {
   "cell_type": "markdown",
   "metadata": {},
   "source": [
    "## Question 4\n",
    "\n",
    "* Fit a logistic regression model without any regularization using all of the features. Be sure to read the documentation about fitting a multi-class model so you understand the coefficient output. Store the model.\n",
    "* Using cross validation to determine the hyperparameters, fit models using L1, and L2 regularization. Store each of these models as well. Note the limitations on multi-class models, solvers, and regularizations. The regularized models, in particular the L1 model, will probably take a while to fit."
   ]
  },
  {
   "cell_type": "code",
   "execution_count": 16,
   "metadata": {},
   "outputs": [
    {
     "data": {
      "text/plain": [
       "array([[-1.12753241e+02,  2.17473305e+01,  2.45980653e+01, ...,\n",
       "         9.53565032e+02, -3.76644087e+02, -6.82954926e+01],\n",
       "       [-3.63002811e+02, -1.45168850e+02,  4.20596431e+01, ...,\n",
       "        -9.63621538e+01, -1.91236271e+02, -1.29107255e+02],\n",
       "       [ 1.68917715e+02,  1.10952883e+02,  1.22638853e+02, ...,\n",
       "        -4.20272436e+02,  3.28980342e+02,  1.70286659e+01],\n",
       "       [-8.56589782e+00, -2.41487603e+01,  3.06382555e+00, ...,\n",
       "        -1.76212251e+02,  1.14312819e+01,  8.12989496e+01],\n",
       "       [ 2.30427066e+02,  5.25608146e+01,  3.51594570e-01, ...,\n",
       "        -3.66623233e+02, -3.00660366e+01, -1.88568620e+01],\n",
       "       [ 8.49771695e+01, -1.59434179e+01, -1.92711982e+02, ...,\n",
       "         1.05905042e+02,  2.57534771e+02,  1.17931994e+02]])"
      ]
     },
     "execution_count": 16,
     "metadata": {},
     "output_type": "execute_result"
    }
   ],
   "source": [
    "from sklearn.linear_model import LogisticRegression\n",
    "\n",
    "# Standard logistic regression\n",
    "lr = LogisticRegression(max_iter=500, penalty='none').fit(X_train, y_train)\n",
    "lr.coef_"
   ]
  },
  {
   "cell_type": "code",
   "execution_count": 17,
   "metadata": {},
   "outputs": [],
   "source": [
    "from sklearn.linear_model import LogisticRegressionCV\n",
    "\n",
    "# L1 regularized logistic regression\n",
    "lr_l1 = LogisticRegressionCV(Cs=10, cv=4, penalty='l1', solver='liblinear').fit(X_train, y_train)"
   ]
  },
  {
   "cell_type": "code",
   "execution_count": 18,
   "metadata": {},
   "outputs": [],
   "source": [
    "#Try with different solvers like ‘newton-cg’, ‘lbfgs’, ‘sag’, ‘saga’ and give your observations"
   ]
  },
  {
   "cell_type": "code",
   "execution_count": 18,
   "metadata": {},
   "outputs": [],
   "source": [
    "# L2 regularized logistic regression\n",
    "lr_l2 = LogisticRegressionCV(Cs=10, cv=4, penalty='l2', max_iter=10000).fit(X_train, y_train)"
   ]
  },
  {
   "cell_type": "markdown",
   "metadata": {},
   "source": [
    "### Breve explicação:"
   ]
  },
  {
   "cell_type": "markdown",
   "metadata": {},
   "source": [
    "Foram expostos os coeficientes de cada regressão logistica com o seus respectivos algoritmos de solução. Houve uma demora considerável com o uso do algoritmo 'liblinear', isso se dá pelo fato que o algoritmo 'liblinear' usar o método de resolução 'um por todos' (onde cada conjunto de dados de uma classe é comparada com o conjunto de dados das outras restantes) esse, é mais viável para um conjunto de dados menor. Esses algoritmos de otimização possuem a vantagem de não precisarem do alfa, como no calculo do gradiente, entretanto com a desvantagem de serem mais complexos."
   ]
  },
  {
   "cell_type": "markdown",
   "metadata": {},
   "source": [
    "## Question 5\n",
    "\n",
    "Compare the magnitudes of the coefficients for each of the models. If one-vs-rest fitting was used, each set of coefficients can be plotted separately. "
   ]
  },
  {
   "cell_type": "code",
   "execution_count": 19,
   "metadata": {},
   "outputs": [
    {
     "data": {
      "text/html": [
       "<div>\n",
       "<style scoped>\n",
       "    .dataframe tbody tr th:only-of-type {\n",
       "        vertical-align: middle;\n",
       "    }\n",
       "\n",
       "    .dataframe tbody tr th {\n",
       "        vertical-align: top;\n",
       "    }\n",
       "\n",
       "    .dataframe thead tr th {\n",
       "        text-align: left;\n",
       "    }\n",
       "</style>\n",
       "<table border=\"1\" class=\"dataframe\">\n",
       "  <thead>\n",
       "    <tr>\n",
       "      <th></th>\n",
       "      <th colspan=\"6\" halign=\"left\">lr</th>\n",
       "      <th colspan=\"6\" halign=\"left\">l1</th>\n",
       "      <th colspan=\"6\" halign=\"left\">l2</th>\n",
       "    </tr>\n",
       "    <tr>\n",
       "      <th></th>\n",
       "      <th>0</th>\n",
       "      <th>1</th>\n",
       "      <th>2</th>\n",
       "      <th>3</th>\n",
       "      <th>4</th>\n",
       "      <th>5</th>\n",
       "      <th>0</th>\n",
       "      <th>1</th>\n",
       "      <th>2</th>\n",
       "      <th>3</th>\n",
       "      <th>4</th>\n",
       "      <th>5</th>\n",
       "      <th>0</th>\n",
       "      <th>1</th>\n",
       "      <th>2</th>\n",
       "      <th>3</th>\n",
       "      <th>4</th>\n",
       "      <th>5</th>\n",
       "    </tr>\n",
       "  </thead>\n",
       "  <tbody>\n",
       "    <tr>\n",
       "      <th>97</th>\n",
       "      <td>-59.649992</td>\n",
       "      <td>-14.922371</td>\n",
       "      <td>-9.606696</td>\n",
       "      <td>33.357186</td>\n",
       "      <td>90.721522</td>\n",
       "      <td>-39.899648</td>\n",
       "      <td>0.0</td>\n",
       "      <td>0.000000</td>\n",
       "      <td>0.000000</td>\n",
       "      <td>-0.176881</td>\n",
       "      <td>-0.009851</td>\n",
       "      <td>-0.326883</td>\n",
       "      <td>-0.025560</td>\n",
       "      <td>-0.022606</td>\n",
       "      <td>-0.054026</td>\n",
       "      <td>0.116069</td>\n",
       "      <td>0.092934</td>\n",
       "      <td>-0.106811</td>\n",
       "    </tr>\n",
       "    <tr>\n",
       "      <th>42</th>\n",
       "      <td>45.545977</td>\n",
       "      <td>165.456477</td>\n",
       "      <td>9.620236</td>\n",
       "      <td>-107.490633</td>\n",
       "      <td>41.699000</td>\n",
       "      <td>-154.831057</td>\n",
       "      <td>0.0</td>\n",
       "      <td>0.983159</td>\n",
       "      <td>-2.414988</td>\n",
       "      <td>0.000000</td>\n",
       "      <td>0.153273</td>\n",
       "      <td>-1.670107</td>\n",
       "      <td>0.213837</td>\n",
       "      <td>0.381222</td>\n",
       "      <td>-0.496620</td>\n",
       "      <td>-0.107976</td>\n",
       "      <td>0.316849</td>\n",
       "      <td>-0.307313</td>\n",
       "    </tr>\n",
       "    <tr>\n",
       "      <th>271</th>\n",
       "      <td>-87.091680</td>\n",
       "      <td>-249.626700</td>\n",
       "      <td>-70.751798</td>\n",
       "      <td>39.736807</td>\n",
       "      <td>103.407151</td>\n",
       "      <td>264.326220</td>\n",
       "      <td>0.0</td>\n",
       "      <td>-1.245471</td>\n",
       "      <td>-0.332047</td>\n",
       "      <td>-0.864534</td>\n",
       "      <td>0.124095</td>\n",
       "      <td>2.503465</td>\n",
       "      <td>0.007356</td>\n",
       "      <td>-0.363352</td>\n",
       "      <td>-0.047749</td>\n",
       "      <td>-0.265855</td>\n",
       "      <td>0.221982</td>\n",
       "      <td>0.447617</td>\n",
       "    </tr>\n",
       "    <tr>\n",
       "      <th>177</th>\n",
       "      <td>-8.241733</td>\n",
       "      <td>11.547459</td>\n",
       "      <td>87.121698</td>\n",
       "      <td>-77.434152</td>\n",
       "      <td>51.592224</td>\n",
       "      <td>-64.585497</td>\n",
       "      <td>0.0</td>\n",
       "      <td>0.002897</td>\n",
       "      <td>0.000000</td>\n",
       "      <td>-0.192995</td>\n",
       "      <td>0.093601</td>\n",
       "      <td>0.000000</td>\n",
       "      <td>-0.015066</td>\n",
       "      <td>-0.032186</td>\n",
       "      <td>0.036511</td>\n",
       "      <td>-0.066964</td>\n",
       "      <td>0.117020</td>\n",
       "      <td>-0.039314</td>\n",
       "    </tr>\n",
       "    <tr>\n",
       "      <th>100</th>\n",
       "      <td>-119.108632</td>\n",
       "      <td>-155.301622</td>\n",
       "      <td>-82.370272</td>\n",
       "      <td>212.993440</td>\n",
       "      <td>-139.396326</td>\n",
       "      <td>283.183414</td>\n",
       "      <td>0.0</td>\n",
       "      <td>0.000000</td>\n",
       "      <td>0.000000</td>\n",
       "      <td>0.830827</td>\n",
       "      <td>-1.413640</td>\n",
       "      <td>1.039519</td>\n",
       "      <td>-0.053037</td>\n",
       "      <td>-0.192394</td>\n",
       "      <td>-0.088089</td>\n",
       "      <td>0.389328</td>\n",
       "      <td>-0.526026</td>\n",
       "      <td>0.470217</td>\n",
       "    </tr>\n",
       "    <tr>\n",
       "      <th>189</th>\n",
       "      <td>104.476076</td>\n",
       "      <td>-79.683410</td>\n",
       "      <td>96.866913</td>\n",
       "      <td>-121.115338</td>\n",
       "      <td>44.059127</td>\n",
       "      <td>-44.603369</td>\n",
       "      <td>0.0</td>\n",
       "      <td>-2.836080</td>\n",
       "      <td>0.497841</td>\n",
       "      <td>-1.978099</td>\n",
       "      <td>0.491166</td>\n",
       "      <td>1.572514</td>\n",
       "      <td>0.175565</td>\n",
       "      <td>-0.699882</td>\n",
       "      <td>0.533180</td>\n",
       "      <td>-0.364515</td>\n",
       "      <td>0.214254</td>\n",
       "      <td>0.141399</td>\n",
       "    </tr>\n",
       "    <tr>\n",
       "      <th>443</th>\n",
       "      <td>-61.704246</td>\n",
       "      <td>-164.930350</td>\n",
       "      <td>107.816357</td>\n",
       "      <td>-65.665794</td>\n",
       "      <td>269.794875</td>\n",
       "      <td>-85.310843</td>\n",
       "      <td>0.0</td>\n",
       "      <td>0.000000</td>\n",
       "      <td>0.000000</td>\n",
       "      <td>-0.262570</td>\n",
       "      <td>0.510387</td>\n",
       "      <td>-0.528451</td>\n",
       "      <td>-0.008482</td>\n",
       "      <td>-0.265631</td>\n",
       "      <td>0.191531</td>\n",
       "      <td>-0.114985</td>\n",
       "      <td>0.431302</td>\n",
       "      <td>-0.233734</td>\n",
       "    </tr>\n",
       "    <tr>\n",
       "      <th>514</th>\n",
       "      <td>92.507758</td>\n",
       "      <td>174.844514</td>\n",
       "      <td>300.141322</td>\n",
       "      <td>-392.501951</td>\n",
       "      <td>-224.981567</td>\n",
       "      <td>49.989925</td>\n",
       "      <td>0.0</td>\n",
       "      <td>0.697367</td>\n",
       "      <td>0.000000</td>\n",
       "      <td>-0.508872</td>\n",
       "      <td>0.000000</td>\n",
       "      <td>0.120072</td>\n",
       "      <td>0.198059</td>\n",
       "      <td>0.359423</td>\n",
       "      <td>-0.034190</td>\n",
       "      <td>-0.618735</td>\n",
       "      <td>-0.181822</td>\n",
       "      <td>0.277265</td>\n",
       "    </tr>\n",
       "    <tr>\n",
       "      <th>161</th>\n",
       "      <td>-8.545603</td>\n",
       "      <td>-67.857915</td>\n",
       "      <td>76.566799</td>\n",
       "      <td>99.108920</td>\n",
       "      <td>68.430965</td>\n",
       "      <td>-167.703166</td>\n",
       "      <td>0.0</td>\n",
       "      <td>0.000000</td>\n",
       "      <td>0.000000</td>\n",
       "      <td>1.502717</td>\n",
       "      <td>0.000000</td>\n",
       "      <td>-0.925482</td>\n",
       "      <td>0.004842</td>\n",
       "      <td>-0.114584</td>\n",
       "      <td>0.123374</td>\n",
       "      <td>0.224178</td>\n",
       "      <td>0.054346</td>\n",
       "      <td>-0.292156</td>\n",
       "    </tr>\n",
       "    <tr>\n",
       "      <th>323</th>\n",
       "      <td>18.781658</td>\n",
       "      <td>32.492862</td>\n",
       "      <td>79.983123</td>\n",
       "      <td>-63.801551</td>\n",
       "      <td>-8.788294</td>\n",
       "      <td>-58.667797</td>\n",
       "      <td>0.0</td>\n",
       "      <td>0.456296</td>\n",
       "      <td>0.238259</td>\n",
       "      <td>0.132084</td>\n",
       "      <td>0.084734</td>\n",
       "      <td>0.154913</td>\n",
       "      <td>0.001166</td>\n",
       "      <td>-0.015081</td>\n",
       "      <td>0.015193</td>\n",
       "      <td>0.004456</td>\n",
       "      <td>0.008108</td>\n",
       "      <td>-0.013842</td>\n",
       "    </tr>\n",
       "  </tbody>\n",
       "</table>\n",
       "</div>"
      ],
      "text/plain": [
       "             lr                                                              \\\n",
       "              0           1           2           3           4           5   \n",
       "97   -59.649992  -14.922371   -9.606696   33.357186   90.721522  -39.899648   \n",
       "42    45.545977  165.456477    9.620236 -107.490633   41.699000 -154.831057   \n",
       "271  -87.091680 -249.626700  -70.751798   39.736807  103.407151  264.326220   \n",
       "177   -8.241733   11.547459   87.121698  -77.434152   51.592224  -64.585497   \n",
       "100 -119.108632 -155.301622  -82.370272  212.993440 -139.396326  283.183414   \n",
       "189  104.476076  -79.683410   96.866913 -121.115338   44.059127  -44.603369   \n",
       "443  -61.704246 -164.930350  107.816357  -65.665794  269.794875  -85.310843   \n",
       "514   92.507758  174.844514  300.141322 -392.501951 -224.981567   49.989925   \n",
       "161   -8.545603  -67.857915   76.566799   99.108920   68.430965 -167.703166   \n",
       "323   18.781658   32.492862   79.983123  -63.801551   -8.788294  -58.667797   \n",
       "\n",
       "      l1                                                          l2  \\\n",
       "       0         1         2         3         4         5         0   \n",
       "97   0.0  0.000000  0.000000 -0.176881 -0.009851 -0.326883 -0.025560   \n",
       "42   0.0  0.983159 -2.414988  0.000000  0.153273 -1.670107  0.213837   \n",
       "271  0.0 -1.245471 -0.332047 -0.864534  0.124095  2.503465  0.007356   \n",
       "177  0.0  0.002897  0.000000 -0.192995  0.093601  0.000000 -0.015066   \n",
       "100  0.0  0.000000  0.000000  0.830827 -1.413640  1.039519 -0.053037   \n",
       "189  0.0 -2.836080  0.497841 -1.978099  0.491166  1.572514  0.175565   \n",
       "443  0.0  0.000000  0.000000 -0.262570  0.510387 -0.528451 -0.008482   \n",
       "514  0.0  0.697367  0.000000 -0.508872  0.000000  0.120072  0.198059   \n",
       "161  0.0  0.000000  0.000000  1.502717  0.000000 -0.925482  0.004842   \n",
       "323  0.0  0.456296  0.238259  0.132084  0.084734  0.154913  0.001166   \n",
       "\n",
       "                                                       \n",
       "            1         2         3         4         5  \n",
       "97  -0.022606 -0.054026  0.116069  0.092934 -0.106811  \n",
       "42   0.381222 -0.496620 -0.107976  0.316849 -0.307313  \n",
       "271 -0.363352 -0.047749 -0.265855  0.221982  0.447617  \n",
       "177 -0.032186  0.036511 -0.066964  0.117020 -0.039314  \n",
       "100 -0.192394 -0.088089  0.389328 -0.526026  0.470217  \n",
       "189 -0.699882  0.533180 -0.364515  0.214254  0.141399  \n",
       "443 -0.265631  0.191531 -0.114985  0.431302 -0.233734  \n",
       "514  0.359423 -0.034190 -0.618735 -0.181822  0.277265  \n",
       "161 -0.114584  0.123374  0.224178  0.054346 -0.292156  \n",
       "323 -0.015081  0.015193  0.004456  0.008108 -0.013842  "
      ]
     },
     "execution_count": 19,
     "metadata": {},
     "output_type": "execute_result"
    }
   ],
   "source": [
    "# Combine all the coefficients into a dataframe\n",
    "coefficients = list()\n",
    "\n",
    "coeff_labels = ['lr', 'l1', 'l2']\n",
    "coeff_models = [lr, lr_l1, lr_l2]\n",
    "\n",
    "#for lab,mod in zip(coeff_labels, coeff_models):\n",
    "#    coeffs = mod.coef_\n",
    "#    levels=[[lab], [0,1,2,3,4,5]]\n",
    "#    labels=[[0,0,0,0,0,0], [0,1,2,3,4,5]]\n",
    "#    coeff_label = pd.MultiIndex(levels,labels)\n",
    "#    coefficients.append(pd.DataFrame(coeffs.T, columns=coeff_label))\n",
    "\n",
    "for lab,mod in zip(coeff_labels, coeff_models):\n",
    "    coeffs = mod.coef_\n",
    "    coeff_label = pd.MultiIndex(levels=[[lab], [0,1,2,3,4,5]], \n",
    "                                 codes=[[0,0,0,0,0,0], [0,1,2,3,4,5]])\n",
    "    coefficients.append(pd.DataFrame(coeffs.T, columns=coeff_label))\n",
    "\n",
    "coefficients = pd.concat(coefficients, axis=1)\n",
    "\n",
    "coefficients.sample(10)\n",
    "\n"
   ]
  },
  {
   "cell_type": "markdown",
   "metadata": {},
   "source": [
    "### Breve explicação:"
   ]
  },
  {
   "cell_type": "markdown",
   "metadata": {},
   "source": [
    "Como sabemos, quando utilizamos a regressão logística para rótulos multiclasse, o modelo encontrará um conjunto de coeficientes para cada classe, devido ao \"método um vs resto\". Assim, cada modelo contém 6 conjuntos de coeficientes que diferem uns dos outros."
   ]
  },
  {
   "cell_type": "markdown",
   "metadata": {},
   "source": [
    "Prepare six separate plots for each of the multi-class coefficients."
   ]
  },
  {
   "cell_type": "code",
   "execution_count": 20,
   "metadata": {},
   "outputs": [
    {
     "data": {
      "image/png": "[encoded data removed]",
      "text/plain": [
       "<Figure size 720x720 with 6 Axes>"
      ]
     },
     "metadata": {},
     "output_type": "display_data"
    }
   ],
   "source": [
    "fig, axList = plt.subplots(nrows=3, ncols=2)\n",
    "axList = axList.flatten()\n",
    "fig.set_size_inches(10,10)\n",
    "\n",
    "\n",
    "for ax in enumerate(axList):\n",
    "    loc = ax[0]\n",
    "    ax = ax[1]\n",
    "    \n",
    "    data_aux = coefficients.xs(loc, level=1, axis=1)\n",
    "    data_aux.plot(marker='o', ls='', ms=2.0, ax=ax, legend=False)\n",
    "    \n",
    "    if ax is axList[0]:\n",
    "        ax.legend(loc=4)\n",
    "        \n",
    "    ax.set(title='Coefficient Set '+str(loc))\n",
    "\n",
    "plt.tight_layout()\n",
    "\n",
    "\n"
   ]
  },
  {
   "cell_type": "markdown",
   "metadata": {},
   "source": [
    "### Breve explicação:"
   ]
  },
  {
   "cell_type": "markdown",
   "metadata": {},
   "source": [
    "Nas imagens acime, foi representado graficamente os conjuntos de coeficientes obtidos para a primeira classe com a rotulação por cor nos 3 modelos, em seguida, aplicou-se o mesmo para a segunda classe e sucessivamente."
   ]
  },
  {
   "cell_type": "markdown",
   "metadata": {},
   "source": [
    "## Question 6\n",
    "\n",
    "* Predict and store the class for each model.\n",
    "* Also store the probability for the predicted class for each model. "
   ]
  },
  {
   "cell_type": "code",
   "execution_count": 21,
   "metadata": {},
   "outputs": [
    {
     "data": {
      "text/html": [
       "<div>\n",
       "<style scoped>\n",
       "    .dataframe tbody tr th:only-of-type {\n",
       "        vertical-align: middle;\n",
       "    }\n",
       "\n",
       "    .dataframe tbody tr th {\n",
       "        vertical-align: top;\n",
       "    }\n",
       "\n",
       "    .dataframe thead th {\n",
       "        text-align: right;\n",
       "    }\n",
       "</style>\n",
       "<table border=\"1\" class=\"dataframe\">\n",
       "  <thead>\n",
       "    <tr style=\"text-align: right;\">\n",
       "      <th></th>\n",
       "      <th>lr</th>\n",
       "      <th>l1</th>\n",
       "      <th>l2</th>\n",
       "    </tr>\n",
       "  </thead>\n",
       "  <tbody>\n",
       "    <tr>\n",
       "      <th>0</th>\n",
       "      <td>3</td>\n",
       "      <td>3</td>\n",
       "      <td>3</td>\n",
       "    </tr>\n",
       "    <tr>\n",
       "      <th>1</th>\n",
       "      <td>5</td>\n",
       "      <td>5</td>\n",
       "      <td>5</td>\n",
       "    </tr>\n",
       "    <tr>\n",
       "      <th>2</th>\n",
       "      <td>3</td>\n",
       "      <td>3</td>\n",
       "      <td>3</td>\n",
       "    </tr>\n",
       "    <tr>\n",
       "      <th>3</th>\n",
       "      <td>1</td>\n",
       "      <td>1</td>\n",
       "      <td>1</td>\n",
       "    </tr>\n",
       "    <tr>\n",
       "      <th>4</th>\n",
       "      <td>0</td>\n",
       "      <td>0</td>\n",
       "      <td>0</td>\n",
       "    </tr>\n",
       "  </tbody>\n",
       "</table>\n",
       "</div>"
      ],
      "text/plain": [
       "   lr  l1  l2\n",
       "0   3   3   3\n",
       "1   5   5   5\n",
       "2   3   3   3\n",
       "3   1   1   1\n",
       "4   0   0   0"
      ]
     },
     "execution_count": 21,
     "metadata": {},
     "output_type": "execute_result"
    }
   ],
   "source": [
    "# Predict the class and the probability for each\n",
    "\n",
    "y_pred = list()\n",
    "y_prob = list()\n",
    "\n",
    "coeff_labels = ['lr', 'l1', 'l2']\n",
    "coeff_models = [lr, lr_l1, lr_l2]\n",
    "\n",
    "for lab,mod in zip(coeff_labels, coeff_models):\n",
    "    y_pred.append(pd.Series(mod.predict(X_test), name=lab))\n",
    "    y_prob.append(pd.Series(mod.predict_proba(X_test).max(axis=1), name=lab))\n",
    "    \n",
    "y_pred = pd.concat(y_pred, axis=1)\n",
    "y_prob = pd.concat(y_prob, axis=1)\n",
    "\n",
    "y_pred.head()\n",
    "\n"
   ]
  },
  {
   "cell_type": "code",
   "execution_count": 22,
   "metadata": {},
   "outputs": [
    {
     "data": {
      "text/html": [
       "<div>\n",
       "<style scoped>\n",
       "    .dataframe tbody tr th:only-of-type {\n",
       "        vertical-align: middle;\n",
       "    }\n",
       "\n",
       "    .dataframe tbody tr th {\n",
       "        vertical-align: top;\n",
       "    }\n",
       "\n",
       "    .dataframe thead th {\n",
       "        text-align: right;\n",
       "    }\n",
       "</style>\n",
       "<table border=\"1\" class=\"dataframe\">\n",
       "  <thead>\n",
       "    <tr style=\"text-align: right;\">\n",
       "      <th></th>\n",
       "      <th>lr</th>\n",
       "      <th>l1</th>\n",
       "      <th>l2</th>\n",
       "    </tr>\n",
       "  </thead>\n",
       "  <tbody>\n",
       "    <tr>\n",
       "      <th>0</th>\n",
       "      <td>1.0</td>\n",
       "      <td>0.998959</td>\n",
       "      <td>0.999998</td>\n",
       "    </tr>\n",
       "    <tr>\n",
       "      <th>1</th>\n",
       "      <td>1.0</td>\n",
       "      <td>0.999576</td>\n",
       "      <td>0.999656</td>\n",
       "    </tr>\n",
       "    <tr>\n",
       "      <th>2</th>\n",
       "      <td>1.0</td>\n",
       "      <td>0.995335</td>\n",
       "      <td>0.998874</td>\n",
       "    </tr>\n",
       "    <tr>\n",
       "      <th>3</th>\n",
       "      <td>1.0</td>\n",
       "      <td>0.999195</td>\n",
       "      <td>0.997831</td>\n",
       "    </tr>\n",
       "    <tr>\n",
       "      <th>4</th>\n",
       "      <td>1.0</td>\n",
       "      <td>0.999918</td>\n",
       "      <td>0.999304</td>\n",
       "    </tr>\n",
       "  </tbody>\n",
       "</table>\n",
       "</div>"
      ],
      "text/plain": [
       "    lr        l1        l2\n",
       "0  1.0  0.998959  0.999998\n",
       "1  1.0  0.999576  0.999656\n",
       "2  1.0  0.995335  0.998874\n",
       "3  1.0  0.999195  0.997831\n",
       "4  1.0  0.999918  0.999304"
      ]
     },
     "execution_count": 22,
     "metadata": {},
     "output_type": "execute_result"
    }
   ],
   "source": [
    "y_prob.head()"
   ]
  },
  {
   "cell_type": "markdown",
   "metadata": {},
   "source": [
    "### Breve explicação:"
   ]
  },
  {
   "cell_type": "markdown",
   "metadata": {},
   "source": [
    "Acima, está sendo exibido duas tabelas que mostram a regressão e a probabilidade para cada curva."
   ]
  },
  {
   "cell_type": "markdown",
   "metadata": {},
   "source": [
    "## Question 7\n",
    "\n",
    "For each model, calculate the following error metrics: \n",
    "\n",
    "* accuracy\n",
    "* precision\n",
    "* recall\n",
    "* fscore\n",
    "* confusion matrix\n",
    "\n",
    "Decide how to combine the multi-class metrics into a single value for each model."
   ]
  },
  {
   "cell_type": "code",
   "execution_count": 23,
   "metadata": {},
   "outputs": [],
   "source": [
    "from sklearn.metrics import precision_recall_fscore_support as score\n",
    "from sklearn.metrics import confusion_matrix, accuracy_score, roc_auc_score\n",
    "from sklearn.preprocessing import label_binarize\n",
    "\n",
    "metrics = list()\n",
    "cm = dict()\n",
    "\n",
    "for lab in coeff_labels:\n",
    "\n",
    "    # Preciision, recall, f-score from the multi-class support function\n",
    "    precision, recall, fscore, _ = score(y_test, y_pred[lab], average='weighted')\n",
    "    \n",
    "    # The usual way to calculate accuracy\n",
    "    accuracy = accuracy_score(y_test, y_pred[lab])\n",
    "    \n",
    "    # ROC-AUC scores can be calculated by binarizing the data\n",
    "    auc = roc_auc_score(label_binarize(y_test, classes=[0,1,2,3,4,5]),\n",
    "              label_binarize(y_pred[lab], classes=[0,1,2,3,4,5]), \n",
    "              average='weighted')\n",
    "    \n",
    "    # Last, the confusion matrix\n",
    "    cm[lab] = confusion_matrix(y_test, y_pred[lab])\n",
    "    \n",
    "    metrics.append(pd.Series({'precision':precision, 'recall':recall, \n",
    "                              'fscore':fscore, 'accuracy':accuracy,\n",
    "                              'auc':auc}, \n",
    "                             name=lab))\n",
    "\n",
    "metrics = pd.concat(metrics, axis=1)\n"
   ]
  },
  {
   "cell_type": "code",
   "execution_count": 24,
   "metadata": {},
   "outputs": [
    {
     "data": {
      "text/html": [
       "<div>\n",
       "<style scoped>\n",
       "    .dataframe tbody tr th:only-of-type {\n",
       "        vertical-align: middle;\n",
       "    }\n",
       "\n",
       "    .dataframe tbody tr th {\n",
       "        vertical-align: top;\n",
       "    }\n",
       "\n",
       "    .dataframe thead th {\n",
       "        text-align: right;\n",
       "    }\n",
       "</style>\n",
       "<table border=\"1\" class=\"dataframe\">\n",
       "  <thead>\n",
       "    <tr style=\"text-align: right;\">\n",
       "      <th></th>\n",
       "      <th>lr</th>\n",
       "      <th>l1</th>\n",
       "      <th>l2</th>\n",
       "    </tr>\n",
       "  </thead>\n",
       "  <tbody>\n",
       "    <tr>\n",
       "      <th>precision</th>\n",
       "      <td>0.980888</td>\n",
       "      <td>0.983835</td>\n",
       "      <td>0.983485</td>\n",
       "    </tr>\n",
       "    <tr>\n",
       "      <th>recall</th>\n",
       "      <td>0.980906</td>\n",
       "      <td>0.983819</td>\n",
       "      <td>0.983495</td>\n",
       "    </tr>\n",
       "    <tr>\n",
       "      <th>fscore</th>\n",
       "      <td>0.980884</td>\n",
       "      <td>0.983815</td>\n",
       "      <td>0.983488</td>\n",
       "    </tr>\n",
       "    <tr>\n",
       "      <th>accuracy</th>\n",
       "      <td>0.980906</td>\n",
       "      <td>0.983819</td>\n",
       "      <td>0.983495</td>\n",
       "    </tr>\n",
       "    <tr>\n",
       "      <th>auc</th>\n",
       "      <td>0.988437</td>\n",
       "      <td>0.990144</td>\n",
       "      <td>0.989983</td>\n",
       "    </tr>\n",
       "  </tbody>\n",
       "</table>\n",
       "</div>"
      ],
      "text/plain": [
       "                 lr        l1        l2\n",
       "precision  0.980888  0.983835  0.983485\n",
       "recall     0.980906  0.983819  0.983495\n",
       "fscore     0.980884  0.983815  0.983488\n",
       "accuracy   0.980906  0.983819  0.983495\n",
       "auc        0.988437  0.990144  0.989983"
      ]
     },
     "execution_count": 24,
     "metadata": {},
     "output_type": "execute_result"
    }
   ],
   "source": [
    "#Run the metrics\n",
    "metrics"
   ]
  },
  {
   "cell_type": "markdown",
   "metadata": {},
   "source": [
    "### Breve explicação:"
   ]
  },
  {
   "cell_type": "markdown",
   "metadata": {},
   "source": [
    "Na tabela acima, não vemos uma diferença estatisticamente significativa nas métricas de erro entre os 3 modelos, mesmo usando apenas o primeiro (sem regularização) podemos esperar um ótimo desempenho na previsão das atividades."
   ]
  },
  {
   "cell_type": "markdown",
   "metadata": {},
   "source": [
    "## Question 8\n",
    "\n",
    "Display or plot the confusion matrix for each model."
   ]
  },
  {
   "cell_type": "code",
   "execution_count": 25,
   "metadata": {},
   "outputs": [
    {
     "data": {
      "image/png": "[encoded data removed]",
      "text/plain": [
       "<Figure size 864x720 with 7 Axes>"
      ]
     },
     "metadata": {},
     "output_type": "display_data"
    }
   ],
   "source": [
    "\n",
    "fig, axList = plt.subplots(nrows=2, ncols=2)\n",
    "axList = axList.flatten()\n",
    "fig.set_size_inches(12, 10)\n",
    "\n",
    "axList[-1].axis('off')\n",
    "\n",
    "for ax,lab in zip(axList[:-1], coeff_labels):\n",
    "    sns.heatmap(cm[lab], ax=ax, annot=True, fmt='d');\n",
    "    ax.set(title=lab);\n",
    "    \n",
    "plt.tight_layout()\n"
   ]
  },
  {
   "cell_type": "markdown",
   "metadata": {},
   "source": [
    "### "
   ]
  },
  {
   "cell_type": "markdown",
   "metadata": {
    "collapsed": true
   },
   "source": [
    "## Question 9\n",
    " Identify highly correlated columns and drop those columns before building models"
   ]
  },
  {
   "cell_type": "code",
   "execution_count": 26,
   "metadata": {},
   "outputs": [
    {
     "name": "stdout",
     "output_type": "stream",
     "text": [
      "(7209, 561)\n",
      "(7209, 50)\n",
      "(3090, 561)\n",
      "(3090, 50)\n"
     ]
    }
   ],
   "source": [
    "from sklearn.feature_selection import SelectKBest\n",
    "from sklearn.feature_selection import chi2\n",
    "from sklearn.feature_selection import VarianceThreshold\n",
    "\n",
    "\n",
    "X_data = data.iloc[:, :-1]\n",
    "\n",
    "\n",
    "#threshold with .7\n",
    "sel = VarianceThreshold(threshold=(.7 * (1 - .7)))\n",
    "X_data = pd.DataFrame(sel.fit_transform(X_data))\n",
    "\n",
    "\n",
    "feature_cols = X_data.columns[:]\n",
    "\n",
    "\n",
    "# Dividindo os subjconjuntos de treino e teste, seguindo os mesmos\n",
    "# Indices obtidos com Stratified Shuffle Split, agora com os dados\n",
    "# Com menos features\n",
    " \n",
    "\n",
    "X_train_new = X_data.loc[train_idx, :]\n",
    "\n",
    "y_train_new = data.loc[train_idx, 'Activity']\n",
    " \n",
    "X_test_new  = X_data.loc[test_idx, :]\n",
    "y_test_new  = data.loc[test_idx, 'Activity']\n",
    " \n",
    "print(X_train.shape)\n",
    "print(X_train_new.shape)\n",
    " \n",
    "print(X_test.shape)\n",
    "print(X_test_new.shape)"
   ]
  },
  {
   "cell_type": "markdown",
   "metadata": {},
   "source": [
    " Repeat Model building with new training data after removing higly correlated columns"
   ]
  },
  {
   "cell_type": "code",
   "execution_count": 27,
   "metadata": {},
   "outputs": [],
   "source": [
    "# Try standard, L1 and L2 Logistic regression\n",
    "from sklearn.linear_model import LogisticRegression\n",
    "from sklearn.linear_model import LogisticRegressionCV\n",
    "\n",
    "# Foi necessário aumentar o número de interações em todas as regressões.\n",
    "\n",
    "# Standard logistic regression\n",
    "lr_new = LogisticRegression(max_iter=10000, penalty='none').fit(X_train_new, y_train_new)\n"
   ]
  },
  {
   "cell_type": "code",
   "execution_count": 50,
   "metadata": {},
   "outputs": [],
   "source": [
    "# L1 regularized logistic regression\n",
    "lr_l1_new = LogisticRegressionCV(Cs=10, cv=4, penalty='l1', solver='liblinear', max_iter=5000).fit(X_train_new, y_train_new)\n"
   ]
  },
  {
   "cell_type": "code",
   "execution_count": 29,
   "metadata": {},
   "outputs": [],
   "source": [
    "# L2 regularized logistic regression\n",
    "lr_l2_new = LogisticRegressionCV(Cs=10, cv=4, penalty='l2', max_iter=10000).fit(X_train_new, y_train_new)"
   ]
  },
  {
   "cell_type": "code",
   "execution_count": 31,
   "metadata": {},
   "outputs": [],
   "source": [
    "#Try with different solvers like ‘newton-cg’, ‘lbfgs’, ‘sag’, ‘saga’ and give your observations\n"
   ]
  },
  {
   "cell_type": "markdown",
   "metadata": {},
   "source": [
    "## Question 10\n",
    "\n",
    "Compare the magnitudes of the coefficients for each of the models. If one-vs-rest fitting was used, each set of coefficients can be plotted separately. "
   ]
  },
  {
   "cell_type": "code",
   "execution_count": 51,
   "metadata": {},
   "outputs": [
    {
     "data": {
      "text/html": [
       "<div>\n",
       "<style scoped>\n",
       "    .dataframe tbody tr th:only-of-type {\n",
       "        vertical-align: middle;\n",
       "    }\n",
       "\n",
       "    .dataframe tbody tr th {\n",
       "        vertical-align: top;\n",
       "    }\n",
       "\n",
       "    .dataframe thead tr th {\n",
       "        text-align: left;\n",
       "    }\n",
       "</style>\n",
       "<table border=\"1\" class=\"dataframe\">\n",
       "  <thead>\n",
       "    <tr>\n",
       "      <th></th>\n",
       "      <th colspan=\"6\" halign=\"left\">lr</th>\n",
       "      <th colspan=\"6\" halign=\"left\">l1</th>\n",
       "      <th colspan=\"6\" halign=\"left\">l2</th>\n",
       "    </tr>\n",
       "    <tr>\n",
       "      <th></th>\n",
       "      <th>0</th>\n",
       "      <th>1</th>\n",
       "      <th>2</th>\n",
       "      <th>3</th>\n",
       "      <th>4</th>\n",
       "      <th>5</th>\n",
       "      <th>0</th>\n",
       "      <th>1</th>\n",
       "      <th>2</th>\n",
       "      <th>3</th>\n",
       "      <th>4</th>\n",
       "      <th>5</th>\n",
       "      <th>0</th>\n",
       "      <th>1</th>\n",
       "      <th>2</th>\n",
       "      <th>3</th>\n",
       "      <th>4</th>\n",
       "      <th>5</th>\n",
       "    </tr>\n",
       "  </thead>\n",
       "  <tbody>\n",
       "    <tr>\n",
       "      <th>34</th>\n",
       "      <td>-4.346637</td>\n",
       "      <td>-2.906370</td>\n",
       "      <td>-2.265775</td>\n",
       "      <td>1.955144</td>\n",
       "      <td>6.482496</td>\n",
       "      <td>1.081143</td>\n",
       "      <td>0.0</td>\n",
       "      <td>0.000000</td>\n",
       "      <td>1.856261</td>\n",
       "      <td>1.062979</td>\n",
       "      <td>3.447684</td>\n",
       "      <td>0.401039</td>\n",
       "      <td>-1.675139</td>\n",
       "      <td>-1.667642</td>\n",
       "      <td>-0.904415</td>\n",
       "      <td>0.212905</td>\n",
       "      <td>4.646978</td>\n",
       "      <td>-0.612688</td>\n",
       "    </tr>\n",
       "    <tr>\n",
       "      <th>10</th>\n",
       "      <td>3.274028</td>\n",
       "      <td>0.338311</td>\n",
       "      <td>0.835366</td>\n",
       "      <td>-1.140845</td>\n",
       "      <td>-1.953807</td>\n",
       "      <td>-1.353054</td>\n",
       "      <td>0.0</td>\n",
       "      <td>-0.506060</td>\n",
       "      <td>0.533437</td>\n",
       "      <td>0.099509</td>\n",
       "      <td>-0.416761</td>\n",
       "      <td>0.330691</td>\n",
       "      <td>1.961253</td>\n",
       "      <td>0.408170</td>\n",
       "      <td>0.905463</td>\n",
       "      <td>-0.779766</td>\n",
       "      <td>-1.557516</td>\n",
       "      <td>-0.937604</td>\n",
       "    </tr>\n",
       "    <tr>\n",
       "      <th>25</th>\n",
       "      <td>4.277529</td>\n",
       "      <td>1.449504</td>\n",
       "      <td>2.118092</td>\n",
       "      <td>-11.866406</td>\n",
       "      <td>6.190505</td>\n",
       "      <td>-2.169223</td>\n",
       "      <td>0.0</td>\n",
       "      <td>-0.740016</td>\n",
       "      <td>1.547031</td>\n",
       "      <td>-7.291042</td>\n",
       "      <td>8.604277</td>\n",
       "      <td>2.246393</td>\n",
       "      <td>1.255826</td>\n",
       "      <td>0.430444</td>\n",
       "      <td>1.242142</td>\n",
       "      <td>-9.569609</td>\n",
       "      <td>7.475050</td>\n",
       "      <td>-0.833852</td>\n",
       "    </tr>\n",
       "    <tr>\n",
       "      <th>37</th>\n",
       "      <td>-5.134578</td>\n",
       "      <td>-7.987142</td>\n",
       "      <td>-8.062384</td>\n",
       "      <td>2.394235</td>\n",
       "      <td>5.950411</td>\n",
       "      <td>12.839459</td>\n",
       "      <td>0.0</td>\n",
       "      <td>-2.625487</td>\n",
       "      <td>5.607183</td>\n",
       "      <td>-5.667569</td>\n",
       "      <td>0.659380</td>\n",
       "      <td>11.184632</td>\n",
       "      <td>-1.875778</td>\n",
       "      <td>-4.533359</td>\n",
       "      <td>-4.253007</td>\n",
       "      <td>-0.092016</td>\n",
       "      <td>1.859523</td>\n",
       "      <td>8.894637</td>\n",
       "    </tr>\n",
       "    <tr>\n",
       "      <th>13</th>\n",
       "      <td>-5.527292</td>\n",
       "      <td>-8.291256</td>\n",
       "      <td>-9.269856</td>\n",
       "      <td>12.847093</td>\n",
       "      <td>0.807058</td>\n",
       "      <td>9.434253</td>\n",
       "      <td>0.0</td>\n",
       "      <td>0.041350</td>\n",
       "      <td>-0.687319</td>\n",
       "      <td>4.742306</td>\n",
       "      <td>-6.168585</td>\n",
       "      <td>2.382131</td>\n",
       "      <td>-1.770805</td>\n",
       "      <td>-4.388288</td>\n",
       "      <td>-5.629515</td>\n",
       "      <td>8.997775</td>\n",
       "      <td>-2.785315</td>\n",
       "      <td>5.576149</td>\n",
       "    </tr>\n",
       "    <tr>\n",
       "      <th>16</th>\n",
       "      <td>-0.990587</td>\n",
       "      <td>2.837459</td>\n",
       "      <td>-1.165508</td>\n",
       "      <td>-0.343814</td>\n",
       "      <td>0.844833</td>\n",
       "      <td>-1.182383</td>\n",
       "      <td>0.0</td>\n",
       "      <td>3.610716</td>\n",
       "      <td>-3.699600</td>\n",
       "      <td>-0.843780</td>\n",
       "      <td>3.887588</td>\n",
       "      <td>-0.890187</td>\n",
       "      <td>-0.453732</td>\n",
       "      <td>2.657831</td>\n",
       "      <td>-1.440870</td>\n",
       "      <td>-0.487850</td>\n",
       "      <td>0.745542</td>\n",
       "      <td>-1.020921</td>\n",
       "    </tr>\n",
       "    <tr>\n",
       "      <th>48</th>\n",
       "      <td>-1.851074</td>\n",
       "      <td>-2.781182</td>\n",
       "      <td>-2.109419</td>\n",
       "      <td>2.723268</td>\n",
       "      <td>1.681151</td>\n",
       "      <td>2.337257</td>\n",
       "      <td>0.0</td>\n",
       "      <td>-0.588316</td>\n",
       "      <td>0.668112</td>\n",
       "      <td>0.250379</td>\n",
       "      <td>-0.499162</td>\n",
       "      <td>-0.028367</td>\n",
       "      <td>-1.049294</td>\n",
       "      <td>-1.270199</td>\n",
       "      <td>-0.591977</td>\n",
       "      <td>1.344109</td>\n",
       "      <td>0.452276</td>\n",
       "      <td>1.115086</td>\n",
       "    </tr>\n",
       "    <tr>\n",
       "      <th>17</th>\n",
       "      <td>0.282950</td>\n",
       "      <td>-2.472762</td>\n",
       "      <td>-4.418700</td>\n",
       "      <td>5.543725</td>\n",
       "      <td>-3.076713</td>\n",
       "      <td>4.141499</td>\n",
       "      <td>0.0</td>\n",
       "      <td>1.516783</td>\n",
       "      <td>-1.383951</td>\n",
       "      <td>1.539467</td>\n",
       "      <td>-3.913690</td>\n",
       "      <td>3.246234</td>\n",
       "      <td>-0.958517</td>\n",
       "      <td>-0.430174</td>\n",
       "      <td>-2.328739</td>\n",
       "      <td>4.170556</td>\n",
       "      <td>-3.665668</td>\n",
       "      <td>3.212542</td>\n",
       "    </tr>\n",
       "    <tr>\n",
       "      <th>30</th>\n",
       "      <td>-1.039252</td>\n",
       "      <td>-61.598369</td>\n",
       "      <td>60.108313</td>\n",
       "      <td>89.789118</td>\n",
       "      <td>-68.837616</td>\n",
       "      <td>-18.422194</td>\n",
       "      <td>0.0</td>\n",
       "      <td>0.760888</td>\n",
       "      <td>0.000000</td>\n",
       "      <td>42.505364</td>\n",
       "      <td>2.911328</td>\n",
       "      <td>16.689861</td>\n",
       "      <td>0.482338</td>\n",
       "      <td>-7.695498</td>\n",
       "      <td>6.348028</td>\n",
       "      <td>15.854109</td>\n",
       "      <td>-15.939203</td>\n",
       "      <td>0.950226</td>\n",
       "    </tr>\n",
       "    <tr>\n",
       "      <th>33</th>\n",
       "      <td>-1.605142</td>\n",
       "      <td>-6.031486</td>\n",
       "      <td>-6.246184</td>\n",
       "      <td>1.577948</td>\n",
       "      <td>5.768840</td>\n",
       "      <td>6.536024</td>\n",
       "      <td>0.0</td>\n",
       "      <td>1.231368</td>\n",
       "      <td>-0.035932</td>\n",
       "      <td>-2.356913</td>\n",
       "      <td>1.841978</td>\n",
       "      <td>2.774527</td>\n",
       "      <td>-1.220057</td>\n",
       "      <td>-2.776397</td>\n",
       "      <td>-3.031909</td>\n",
       "      <td>0.062604</td>\n",
       "      <td>3.122092</td>\n",
       "      <td>3.843667</td>\n",
       "    </tr>\n",
       "  </tbody>\n",
       "</table>\n",
       "</div>"
      ],
      "text/plain": [
       "          lr                                                          l1  \\\n",
       "           0          1          2          3          4          5    0   \n",
       "34 -4.346637  -2.906370  -2.265775   1.955144   6.482496   1.081143  0.0   \n",
       "10  3.274028   0.338311   0.835366  -1.140845  -1.953807  -1.353054  0.0   \n",
       "25  4.277529   1.449504   2.118092 -11.866406   6.190505  -2.169223  0.0   \n",
       "37 -5.134578  -7.987142  -8.062384   2.394235   5.950411  12.839459  0.0   \n",
       "13 -5.527292  -8.291256  -9.269856  12.847093   0.807058   9.434253  0.0   \n",
       "16 -0.990587   2.837459  -1.165508  -0.343814   0.844833  -1.182383  0.0   \n",
       "48 -1.851074  -2.781182  -2.109419   2.723268   1.681151   2.337257  0.0   \n",
       "17  0.282950  -2.472762  -4.418700   5.543725  -3.076713   4.141499  0.0   \n",
       "30 -1.039252 -61.598369  60.108313  89.789118 -68.837616 -18.422194  0.0   \n",
       "33 -1.605142  -6.031486  -6.246184   1.577948   5.768840   6.536024  0.0   \n",
       "\n",
       "                                                              l2            \\\n",
       "           1         2          3         4          5         0         1   \n",
       "34  0.000000  1.856261   1.062979  3.447684   0.401039 -1.675139 -1.667642   \n",
       "10 -0.506060  0.533437   0.099509 -0.416761   0.330691  1.961253  0.408170   \n",
       "25 -0.740016  1.547031  -7.291042  8.604277   2.246393  1.255826  0.430444   \n",
       "37 -2.625487  5.607183  -5.667569  0.659380  11.184632 -1.875778 -4.533359   \n",
       "13  0.041350 -0.687319   4.742306 -6.168585   2.382131 -1.770805 -4.388288   \n",
       "16  3.610716 -3.699600  -0.843780  3.887588  -0.890187 -0.453732  2.657831   \n",
       "48 -0.588316  0.668112   0.250379 -0.499162  -0.028367 -1.049294 -1.270199   \n",
       "17  1.516783 -1.383951   1.539467 -3.913690   3.246234 -0.958517 -0.430174   \n",
       "30  0.760888  0.000000  42.505364  2.911328  16.689861  0.482338 -7.695498   \n",
       "33  1.231368 -0.035932  -2.356913  1.841978   2.774527 -1.220057 -2.776397   \n",
       "\n",
       "                                              \n",
       "           2          3          4         5  \n",
       "34 -0.904415   0.212905   4.646978 -0.612688  \n",
       "10  0.905463  -0.779766  -1.557516 -0.937604  \n",
       "25  1.242142  -9.569609   7.475050 -0.833852  \n",
       "37 -4.253007  -0.092016   1.859523  8.894637  \n",
       "13 -5.629515   8.997775  -2.785315  5.576149  \n",
       "16 -1.440870  -0.487850   0.745542 -1.020921  \n",
       "48 -0.591977   1.344109   0.452276  1.115086  \n",
       "17 -2.328739   4.170556  -3.665668  3.212542  \n",
       "30  6.348028  15.854109 -15.939203  0.950226  \n",
       "33 -3.031909   0.062604   3.122092  3.843667  "
      ]
     },
     "execution_count": 51,
     "metadata": {},
     "output_type": "execute_result"
    }
   ],
   "source": [
    "# Combine all the coefficients into a dataframe for comparison\n",
    "\n",
    "coefficients_new = list()\n",
    "\n",
    "coeff_labels = ['lr', 'l1', 'l2']\n",
    "coeff_models = [lr_new, lr_l1_new, lr_l2_new]\n",
    "\n",
    "#for lab,mod in zip(coeff_labels, coeff_models):\n",
    "#    coeffs = mod.coef_\n",
    "#    levels=[[lab], [0,1,2,3,4,5]]\n",
    "#    labels=[[0,0,0,0,0,0], [0,1,2,3,4,5]]\n",
    "#    coeff_label = pd.MultiIndex(levels,labels)\n",
    "#    coefficients.append(pd.DataFrame(coeffs.T, columns=coeff_label))\n",
    "\n",
    "for lab,mod in zip(coeff_labels, coeff_models):\n",
    "    coeffs = mod.coef_\n",
    "    coeff_label = pd.MultiIndex(levels=[[lab], [0,1,2,3,4,5]], \n",
    "                                 codes=[[0,0,0,0,0,0], [0,1,2,3,4,5]])\n",
    "    coefficients_new.append(pd.DataFrame(coeffs.T, columns=coeff_label))\n",
    "\n",
    "coefficients_new = pd.concat(coefficients_new, axis=1)\n",
    "\n",
    "coefficients_new.sample(10)"
   ]
  },
  {
   "cell_type": "markdown",
   "metadata": {},
   "source": [
    "Prepare six separate plots for each of the multi-class coefficients."
   ]
  },
  {
   "cell_type": "code",
   "execution_count": 52,
   "metadata": {},
   "outputs": [
    {
     "data": {
      "image/png": "[encoded data removed]",
      "text/plain": [
       "<Figure size 720x720 with 6 Axes>"
      ]
     },
     "metadata": {},
     "output_type": "display_data"
    }
   ],
   "source": [
    "# try the plots\n",
    "\n",
    "fig, axList = plt.subplots(nrows=3, ncols=2)\n",
    "axList = axList.flatten()\n",
    "fig.set_size_inches(10,10)\n",
    "\n",
    "\n",
    "for ax in enumerate(axList):\n",
    "    loc = ax[0]\n",
    "    ax = ax[1]\n",
    "    \n",
    "    data_aux = coefficients_new.xs(loc, level=1, axis=1)\n",
    "    data_aux.plot(marker='o', ls='', ms=2.0, ax=ax, legend=False)\n",
    "    \n",
    "    if ax is axList[0]:\n",
    "        ax.legend(loc=4)\n",
    "        \n",
    "    ax.set(title='Coefficient Set '+str(loc))\n",
    "\n",
    "plt.tight_layout()"
   ]
  },
  {
   "cell_type": "markdown",
   "metadata": {},
   "source": [
    "## Question 11\n",
    "\n",
    "* Predict and store the class for each model.\n",
    "* Also store the probability for the predicted class for each model. "
   ]
  },
  {
   "cell_type": "code",
   "execution_count": 53,
   "metadata": {},
   "outputs": [
    {
     "data": {
      "text/html": [
       "<div>\n",
       "<style scoped>\n",
       "    .dataframe tbody tr th:only-of-type {\n",
       "        vertical-align: middle;\n",
       "    }\n",
       "\n",
       "    .dataframe tbody tr th {\n",
       "        vertical-align: top;\n",
       "    }\n",
       "\n",
       "    .dataframe thead th {\n",
       "        text-align: right;\n",
       "    }\n",
       "</style>\n",
       "<table border=\"1\" class=\"dataframe\">\n",
       "  <thead>\n",
       "    <tr style=\"text-align: right;\">\n",
       "      <th></th>\n",
       "      <th>lr</th>\n",
       "      <th>l1</th>\n",
       "      <th>l2</th>\n",
       "    </tr>\n",
       "  </thead>\n",
       "  <tbody>\n",
       "    <tr>\n",
       "      <th>0</th>\n",
       "      <td>3</td>\n",
       "      <td>3</td>\n",
       "      <td>3</td>\n",
       "    </tr>\n",
       "    <tr>\n",
       "      <th>1</th>\n",
       "      <td>5</td>\n",
       "      <td>5</td>\n",
       "      <td>5</td>\n",
       "    </tr>\n",
       "    <tr>\n",
       "      <th>2</th>\n",
       "      <td>3</td>\n",
       "      <td>3</td>\n",
       "      <td>3</td>\n",
       "    </tr>\n",
       "    <tr>\n",
       "      <th>3</th>\n",
       "      <td>1</td>\n",
       "      <td>1</td>\n",
       "      <td>1</td>\n",
       "    </tr>\n",
       "    <tr>\n",
       "      <th>4</th>\n",
       "      <td>0</td>\n",
       "      <td>0</td>\n",
       "      <td>0</td>\n",
       "    </tr>\n",
       "  </tbody>\n",
       "</table>\n",
       "</div>"
      ],
      "text/plain": [
       "   lr  l1  l2\n",
       "0   3   3   3\n",
       "1   5   5   5\n",
       "2   3   3   3\n",
       "3   1   1   1\n",
       "4   0   0   0"
      ]
     },
     "execution_count": 53,
     "metadata": {},
     "output_type": "execute_result"
    }
   ],
   "source": [
    "# Predict the class and the probability for each\n",
    "y_pred = list()\n",
    "y_prob = list()\n",
    "\n",
    "coeff_labels = ['lr', 'l1', 'l2']\n",
    "coeff_models = [lr_new, lr_l1_new, lr_l2_new]\n",
    "\n",
    "for lab,mod in zip(coeff_labels, coeff_models):\n",
    "    y_pred.append(pd.Series(mod.predict(X_test_new), name=lab))\n",
    "    y_prob.append(pd.Series(mod.predict_proba(X_test_new).max(axis=1), name=lab))\n",
    "    \n",
    "y_pred = pd.concat(y_pred, axis=1)\n",
    "y_prob = pd.concat(y_prob, axis=1)\n",
    "\n",
    "y_pred.head()\n"
   ]
  },
  {
   "cell_type": "markdown",
   "metadata": {},
   "source": [
    "## Question 12\n",
    "\n",
    "For each model, calculate the following error metrics: \n",
    "\n",
    "* accuracy\n",
    "* precision\n",
    "* recall\n",
    "* fscore\n",
    "* confusion matrix\n",
    "\n",
    "Decide how to combine the multi-class metrics into a single value for each model."
   ]
  },
  {
   "cell_type": "code",
   "execution_count": 54,
   "metadata": {},
   "outputs": [],
   "source": [
    "# Calculate the error metrics as listed above\n",
    "metrics = list()\n",
    "cm = dict()\n",
    "\n",
    "for lab in coeff_labels:\n",
    "\n",
    "    # Preciision, recall, f-score from the multi-class support function\n",
    "    precision, recall, fscore, _ = score(y_test_new, y_pred[lab], average='weighted')\n",
    "    \n",
    "    # The usual way to calculate accuracy\n",
    "    accuracy = accuracy_score(y_test_new, y_pred[lab])\n",
    "    \n",
    "    # ROC-AUC scores can be calculated by binarizing the data\n",
    "    auc = roc_auc_score(label_binarize(y_test_new, classes=[0,1,2,3,4,5]),\n",
    "              label_binarize(y_pred[lab], classes=[0,1,2,3,4,5]), \n",
    "              average='weighted')\n",
    "    \n",
    "    # Last, the confusion matrix\n",
    "    cm[lab] = confusion_matrix(y_test_new, y_pred[lab])\n",
    "    \n",
    "    metrics.append(pd.Series({'precision':precision, 'recall':recall, \n",
    "                              'fscore':fscore, 'accuracy':accuracy,\n",
    "                              'auc':auc}, \n",
    "                             name=lab))\n",
    "\n",
    "metrics = pd.concat(metrics, axis=1)"
   ]
  },
  {
   "cell_type": "code",
   "execution_count": 55,
   "metadata": {},
   "outputs": [
    {
     "data": {
      "text/html": [
       "<div>\n",
       "<style scoped>\n",
       "    .dataframe tbody tr th:only-of-type {\n",
       "        vertical-align: middle;\n",
       "    }\n",
       "\n",
       "    .dataframe tbody tr th {\n",
       "        vertical-align: top;\n",
       "    }\n",
       "\n",
       "    .dataframe thead th {\n",
       "        text-align: right;\n",
       "    }\n",
       "</style>\n",
       "<table border=\"1\" class=\"dataframe\">\n",
       "  <thead>\n",
       "    <tr style=\"text-align: right;\">\n",
       "      <th></th>\n",
       "      <th>lr</th>\n",
       "      <th>l1</th>\n",
       "      <th>l2</th>\n",
       "    </tr>\n",
       "  </thead>\n",
       "  <tbody>\n",
       "    <tr>\n",
       "      <th>precision</th>\n",
       "      <td>0.937076</td>\n",
       "      <td>0.937632</td>\n",
       "      <td>0.936643</td>\n",
       "    </tr>\n",
       "    <tr>\n",
       "      <th>recall</th>\n",
       "      <td>0.936893</td>\n",
       "      <td>0.937540</td>\n",
       "      <td>0.936570</td>\n",
       "    </tr>\n",
       "    <tr>\n",
       "      <th>fscore</th>\n",
       "      <td>0.936902</td>\n",
       "      <td>0.937536</td>\n",
       "      <td>0.936555</td>\n",
       "    </tr>\n",
       "    <tr>\n",
       "      <th>accuracy</th>\n",
       "      <td>0.936893</td>\n",
       "      <td>0.937540</td>\n",
       "      <td>0.936570</td>\n",
       "    </tr>\n",
       "    <tr>\n",
       "      <th>auc</th>\n",
       "      <td>0.962166</td>\n",
       "      <td>0.962457</td>\n",
       "      <td>0.961954</td>\n",
       "    </tr>\n",
       "  </tbody>\n",
       "</table>\n",
       "</div>"
      ],
      "text/plain": [
       "                 lr        l1        l2\n",
       "precision  0.937076  0.937632  0.936643\n",
       "recall     0.936893  0.937540  0.936570\n",
       "fscore     0.936902  0.937536  0.936555\n",
       "accuracy   0.936893  0.937540  0.936570\n",
       "auc        0.962166  0.962457  0.961954"
      ]
     },
     "execution_count": 55,
     "metadata": {},
     "output_type": "execute_result"
    }
   ],
   "source": [
    "#Run the metrics\n",
    "metrics"
   ]
  },
  {
   "cell_type": "markdown",
   "metadata": {},
   "source": [
    "## Question 13\n",
    "\n",
    "Display or plot the confusion matrix for each model."
   ]
  },
  {
   "cell_type": "code",
   "execution_count": 56,
   "metadata": {},
   "outputs": [
    {
     "data": {
      "image/png": "[encoded data removed]",
      "text/plain": [
       "<Figure size 864x720 with 7 Axes>"
      ]
     },
     "metadata": {},
     "output_type": "display_data"
    }
   ],
   "source": [
    "#plot the confusion matrix\n",
    "fig, axList = plt.subplots(nrows=2, ncols=2)\n",
    "axList = axList.flatten()\n",
    "fig.set_size_inches(12, 10)\n",
    "\n",
    "axList[-1].axis('off')\n",
    "\n",
    "for ax,lab in zip(axList[:-1], coeff_labels):\n",
    "    sns.heatmap(cm[lab], ax=ax, annot=True, fmt='d');\n",
    "    ax.set(title=lab);\n",
    "    \n",
    "plt.tight_layout()"
   ]
  },
  {
   "cell_type": "code",
   "execution_count": 58,
   "metadata": {},
   "outputs": [],
   "source": [
    "# Perform a comparison of the outputs between Question 7 and 12 and give your observation"
   ]
  },
  {
   "cell_type": "markdown",
   "metadata": {},
   "source": [
    "Ao reduzir as colunas mais relacionadas foi observado que o modelo teve uma leve diminuição em todos os parâmetros accuracy, prediction, recall, fscore. Portanto para todas as regressões (lr, l1, l2) houve uma leve piora, ou seja, seus valores foram levemente reduzidos."
   ]
  },
  {
   "cell_type": "code",
   "execution_count": 57,
   "metadata": {},
   "outputs": [],
   "source": [
    "# Perform a comparison of the outputs between Question 8 and 13 and give your observation"
   ]
  },
  {
   "cell_type": "markdown",
   "metadata": {},
   "source": [
    "Ao comparar as matrizes de confusão, só reforçamos que houve uma leve piora removendo as colunas mais relacionadas."
   ]
  },
  {
   "cell_type": "code",
   "execution_count": null,
   "metadata": {},
   "outputs": [],
   "source": []
  }
 ],
 "metadata": {
  "kernelspec": {
   "display_name": "Python 3",
   "language": "python",
   "name": "python3"
  },
  "language_info": {
   "codemirror_mode": {
    "name": "ipython",
    "version": 3
   },
   "file_extension": ".py",
   "mimetype": "text/x-python",
   "name": "python",
   "nbconvert_exporter": "python",
   "pygments_lexer": "ipython3",
   "version": "3.8.5"
  }
 },
 "nbformat": 4,
 "nbformat_minor": 2
}
